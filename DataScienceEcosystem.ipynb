{
 "cells": [
  {
   "cell_type": "markdown",
   "id": "26336916-9b66-4160-8c36-927be8686683",
   "metadata": {},
   "source": [
    "# Data Science Tools and Ecosystem"
   ]
  },
  {
   "cell_type": "markdown",
   "id": "12cff44c-e707-419e-ad44-65888b45a983",
   "metadata": {},
   "source": [
    "In this notebook, Data Science Tools and Ecosystem are summarized."
   ]
  },
  {
   "cell_type": "markdown",
   "id": "1d1a8648-c537-491d-bd4e-2cff00c92953",
   "metadata": {},
   "source": [
    "**Objectives**\n",
    "- List popular languages used in data science.\n",
    "- List popular libraries used in data science.\n",
    "- List popular, open source data science development environments\n",
    "- Demonstrate Python code execution with simple arithmetic examples"
   ]
  },
  {
   "cell_type": "markdown",
   "id": "95f71a0b-ff2f-4813-b4bb-2399f31caa70",
   "metadata": {},
   "source": [
    "Some of the popular languages that Data Scientists use are:\n",
    "1. Python\n",
    "2. R\n",
    "3. Julia\n",
    "4. SQL\n",
    "5. Scala"
   ]
  },
  {
   "cell_type": "markdown",
   "id": "845b797c-65a9-4f79-b565-cc5078cfb3a4",
   "metadata": {},
   "source": [
    "Some of the commonly used libraries used by Data Scientists include:\n",
    "1. pandas (Python)\n",
    "2. numpy (Python)\n",
    "3. scikit-learn (Python)\n",
    "4. dplyr (R)\n",
    "5. tidyr (R)"
   ]
  },
  {
   "cell_type": "markdown",
   "id": "782d6596-f5ea-44ea-94f3-cf20051f4ab8",
   "metadata": {},
   "source": [
    "| Data Science Tools |\n",
    "| -------------------|\n",
    "| Jupyter Notebook |\n",
    "| RStudio |\n",
    "| Visual Studio Code (VS Code) |"
   ]
  },
  {
   "cell_type": "markdown",
   "id": "b5f121df-aefe-43e4-801f-7760b8642b1a",
   "metadata": {},
   "source": [
    "### Below are a few examples of evaluating arithmetic expressions in Python."
   ]
  },
  {
   "cell_type": "code",
   "execution_count": 1,
   "id": "e4bdf899-7a13-412b-8d7e-cf42186b45c6",
   "metadata": {},
   "outputs": [
    {
     "data": {
      "text/plain": [
       "17"
      ]
     },
     "execution_count": 1,
     "metadata": {},
     "output_type": "execute_result"
    }
   ],
   "source": [
    "# This a simple arithmetic expression to mutiply then add integers.\n",
    "(3 * 4) + 5"
   ]
  },
  {
   "cell_type": "code",
   "execution_count": 2,
   "id": "4c1439d9-b968-44bb-804e-f20e2827e49c",
   "metadata": {},
   "outputs": [
    {
     "data": {
      "text/plain": [
       "3.3333333333333335"
      ]
     },
     "execution_count": 2,
     "metadata": {},
     "output_type": "execute_result"
    }
   ],
   "source": [
    "# This will convert 200 minutes to hours by diving by 60.\n",
    "200 / 60"
   ]
  },
  {
   "cell_type": "markdown",
   "id": "310d2db9-22be-4b5f-9ef5-f4634d90aae4",
   "metadata": {},
   "source": [
    "## Author\n",
    "Chris Streeter"
   ]
  }
 ],
 "metadata": {
  "kernelspec": {
   "display_name": "Python 3 (ipykernel)",
   "language": "python",
   "name": "python3"
  },
  "language_info": {
   "codemirror_mode": {
    "name": "ipython",
    "version": 3
   },
   "file_extension": ".py",
   "mimetype": "text/x-python",
   "name": "python",
   "nbconvert_exporter": "python",
   "pygments_lexer": "ipython3",
   "version": "3.11.10"
  }
 },
 "nbformat": 4,
 "nbformat_minor": 5
}
